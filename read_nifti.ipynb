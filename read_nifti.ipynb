{
 "cells": [
  {
   "cell_type": "code",
   "execution_count": 1,
   "metadata": {},
   "outputs": [],
   "source": [
    "#17-MAR-2023 by Duane Rinehart (drinehart@ucsd.edu)\n",
    "#PROCESS nifti FORMAT FILES (MEDICAL IMAGES)\n",
    "\n",
    "#ref: https://nipy.org/nibabel/gettingstarted.html\n",
    "#ref2: https://nipy.org/nibabel/images_and_memory.html\n",
    "#ref3: https://github.com/nipy/nilabels\n",
    "\n",
    "\n",
    "import nibabel as nib\n",
    "import numpy as np\n",
    "\n",
    "\n",
    "def sizeof_fmt(num, suffix=\"B\"):\n",
    "    '''\n",
    "    src: https://stackoverflow.com/questions/1094841/get-human-readable-version-of-file-size\n",
    "    '''\n",
    "    for unit in [\"\", \"Ki\", \"Mi\", \"Gi\", \"Ti\", \"Pi\", \"Ei\", \"Zi\"]:\n",
    "        if abs(num) < 1024.0:\n",
    "            return f\"{num:3.1f}{unit}{suffix}\"\n",
    "        num /= 1024.0\n",
    "    return f\"{num:.1f}Yi{suffix}\"\n",
    "\n",
    "\n",
    "def prepare_data(nib_image, calc_descriptive_stats):\n",
    "    '''\n",
    "    -DESCRIBES NIFI DATA ON DISK\n",
    "    -CONVERTS TO NUMPY (BUT DOES NOT LOAD INTO MEMORY)\n",
    "    -CAST NUMPY ARRAY TO int8\n",
    "    -DESCRIBES NUMPY ARRAY\n",
    "    '''\n",
    "    hdr = nib_image.header\n",
    "    storage_dtype = nib_image.get_data_dtype()\n",
    "\n",
    "    #convert to numpy\n",
    "    np_data = np.asarray(nib_image.dataobj).astype(np.int8)\n",
    "\n",
    "    if calc_descriptive_stats == True:\n",
    "        unique, frequency = np.unique(np_data, return_counts = True)\n",
    "        rbytes = np_data.nbytes\n",
    "        sparsity = 1 - (np.count_nonzero(raw_data) / raw_data.size)\n",
    "        \n",
    "        print(f'ORG SHAPE: {nib_image.shape}')\n",
    "        print(f'ORG UNITS: {hdr.get_xyzt_units()}')    \n",
    "        print(f'ORG DATA TYPE: {storage_dtype}')\n",
    "        print('---')\n",
    "        print(f'NUMPY MEM SIZE: {sizeof_fmt(rbytes)}')\n",
    "        print(f'NUMPY dtype: {type(np_data.dtype)}')\n",
    "        print('---')\n",
    "        print(f'OVERALL - unique_values: {unique}, frequency: {frequency}')\n",
    "        print(f'Sparsity of raw_data (zero/total):{np.round(sparsity,3)}%')\n",
    "\n",
    "    return np_data\n",
    "\n",
    "\n",
    "file = 'itk_WholeBrain_ML20190124_240_cube_downsampled_8x_0_0_0_mask_14mar2pm.nii.gz'\n",
    "calc_descriptive_stats = False\n",
    "\n",
    "nib_image = nib.load(file) #'proxy' image (not actually in RAM, loads from storage)\n",
    "raw_data = prepare_data(nib_image, calc_descriptive_stats)\n"
   ]
  },
  {
   "cell_type": "code",
   "execution_count": 12,
   "metadata": {},
   "outputs": [
    {
     "data": {
      "text/plain": [
       "\"\\nNUMPY MEM SIZE: 4.5GiB\\nNUMPY dtype: <class 'numpy.dtype[uint16]'>\\nOVERALL - unique_values: [0 1 2 3], frequency: [2386845089   11267417      14481    1527413]\\n\\nNUMPY MEM SIZE: 2.2GiB\\nNUMPY dtype: <class 'numpy.dtype[int8]'>\\n\\n-> sparse array\\nNUMPY MEM SIZE: 305.4MiB\\nNUMPY dtype: <class 'numpy.dtype[int8]'>\\n\\n-> sparse array (6m10s to run)\\nNUMPY MEM SIZE: 317.6MiB\\nNUMPY dtype: <class 'numpy.dtype[uint16]'>\\n\""
      ]
     },
     "execution_count": 12,
     "metadata": {},
     "output_type": "execute_result"
    }
   ],
   "source": [
    "'''\n",
    "NUMPY MEM SIZE: 4.5GiB\n",
    "NUMPY dtype: <class 'numpy.dtype[uint16]'>\n",
    "OVERALL - unique_values: [0 1 2 3], frequency: [2386845089   11267417      14481    1527413]\n",
    "\n",
    "NUMPY MEM SIZE: 2.2GiB (2m34s to run)\n",
    "NUMPY dtype: <class 'numpy.dtype[int8]'>\n",
    "\n",
    "OTHER COMPRESSION RESULTS:\n",
    "-> sparse array (COO)\n",
    "NUMPY MEM SIZE: 305.4MiB\n",
    "NUMPY dtype: <class 'numpy.dtype[int8]'>\n",
    "\n",
    "-> sparse array (GCXS)\n",
    "NUMPY MEM SIZE: 110.0MiB\n",
    "NUMPY dtype: <class 'numpy.dtype[int8]'>\n",
    "\n",
    "'''"
   ]
  },
  {
   "cell_type": "code",
   "execution_count": 7,
   "metadata": {},
   "outputs": [
    {
     "name": "stdout",
     "output_type": "stream",
     "text": [
      "Sparsity of raw_data:0.995%\n",
      "SPARSE MEM SIZE: 305.4MiB\n"
     ]
    }
   ],
   "source": [
    "#17-MAR-2023 CONVERT NUMPY ARRAY TO SPARSE ARRAY (COO)\n",
    "import sparse\n",
    "\n",
    "# sparsity = 1 - (np.count_nonzero(raw_data) / raw_data.size)\n",
    "# print(f'Sparsity of raw_data:{np.round(sparsity,3)}%')\n",
    "\n",
    "np_data_sparse = sparse.COO(raw_data)\n",
    "print(f'SPARSE MEM SIZE: {sizeof_fmt(np_data_sparse.nbytes)}')"
   ]
  },
  {
   "cell_type": "code",
   "execution_count": 2,
   "metadata": {},
   "outputs": [
    {
     "name": "stdout",
     "output_type": "stream",
     "text": [
      "Sparsity of raw_data:0.995%\n",
      "SPARSE MEM SIZE: 110.0MiB\n"
     ]
    },
    {
     "name": "stderr",
     "output_type": "stream",
     "text": [
      "c:\\ProgramData\\Anaconda3\\lib\\site-packages\\sparse\\_compressed\\compressed.py:76: RuntimeWarning: overflow encountered in long_scalars\n",
      "  strides *= d\n"
     ]
    }
   ],
   "source": [
    "#17-MAR-2023 CONVERT NUMPY ARRAY TO SPARSE ARRAY (GCXS)\n",
    "#ref: https://ieeexplore.ieee.org/document/7237032\n",
    "import sparse\n",
    "\n",
    "sparsity = 1 - (np.count_nonzero(raw_data) / raw_data.size)\n",
    "print(f'Sparsity of raw_data:{np.round(sparsity,3)}%')\n",
    "\n",
    "np_data_sparse = sparse.GCXS(raw_data)\n",
    "print(f'SPARSE MEM SIZE: {sizeof_fmt(np_data_sparse.nbytes)}')"
   ]
  },
  {
   "cell_type": "code",
   "execution_count": null,
   "metadata": {},
   "outputs": [
    {
     "data": {
      "text/plain": [
       "0.005337981586015053"
      ]
     },
     "execution_count": 14,
     "metadata": {},
     "output_type": "execute_result"
    }
   ],
   "source": [
    "sum=1040* 1320* 1748\n",
    "val = 12809311\n",
    "val/sum"
   ]
  }
 ],
 "metadata": {
  "kernelspec": {
   "display_name": "Python 3",
   "language": "python",
   "name": "python3"
  },
  "language_info": {
   "codemirror_mode": {
    "name": "ipython",
    "version": 3
   },
   "file_extension": ".py",
   "mimetype": "text/x-python",
   "name": "python",
   "nbconvert_exporter": "python",
   "pygments_lexer": "ipython3",
   "version": "3.8.8"
  },
  "orig_nbformat": 4
 },
 "nbformat": 4,
 "nbformat_minor": 2
}
