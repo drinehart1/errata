{
 "cells": [
  {
   "cell_type": "code",
   "execution_count": 20,
   "metadata": {
    "pycharm": {
     "name": "#%%\n"
    }
   },
   "outputs": [
    {
     "name": "stdout",
     "output_type": "stream",
     "text": [
      "Read tsv: E:/dev/web_server_load_test/325_325_20000.tsv\n",
      "Operation time:  0.12299537658691406 sec\n"
     ]
    }
   ],
   "source": [
    "\"\"\"\n",
    "LOAD TEST WEB SERVER\n",
    "\n",
    "CREATED: 13-APR-2022\n",
    "LAST EDIT: 26-JUL-2022\n",
    "AUTHORS: DUANE RINEHART\n",
    "\n",
    "\"\"\"\n",
    "import os\n",
    "import time\n",
    "import pandas as pd\n",
    "\n",
    "\n",
    "win_data_dir = \"E:/dev/web_server_load_test/\"\n",
    "linux_data_dir = \"/mnt/e/dev/web_server_load_test/\"\n",
    "\n",
    "\n",
    "def load_app_constants():\n",
    "    \"\"\"\n",
    "    LOAD APP/ENVIRONMENT SETTINGS (ESP. CROSS-PLATFORM)\n",
    "    \"\"\"\n",
    "    if os.name == \"nt\":\n",
    "        input_fullPath = os.path.join(win_data_dir)\n",
    "    else:\n",
    "        input_fullPath = os.path.join(linux_data_dir)\n",
    "    return input_fullPath\n",
    "\n",
    "\n",
    "def sizeof_fmt(num, suffix=\"B\"):\n",
    "    for unit in [\"\", \"Ki\", \"Mi\", \"Gi\", \"Ti\", \"Pi\", \"Ei\", \"Zi\"]:\n",
    "        if abs(num) < 1024.0:\n",
    "            return f\"{num:3.1f}{unit}{suffix}\"\n",
    "        num /= 1024.0\n",
    "    return f\"{num:.1f}Yi{suffix}\"\n",
    "\n",
    "\n",
    "def capture_dir_listing(data_root):\n",
    "    \"\"\"\n",
    "    PRIOR LIST OF REPRESENTATIVE DIRECTORY CONTENTS GENERATED WITH:\n",
    "    [ON pons.dk.ucsd.edu]\n",
    "    cd /data/neuroglancer/DK55/neuroglancer_data/C1\n",
    "    DIR='325_325_20000' && ls -l $DIR | awk 'BEGIN {OFS=\"\\t\"} { print $9, $5 }' > ~/\"$DIR.tsv\"\n",
    "\n",
    "    \"\"\"\n",
    "\n",
    "    input_filename = \"325_325_20000.tsv\"\n",
    "    input_fullPath = os.path.join(data_root, input_filename)\n",
    "\n",
    "    start = time.time()\n",
    "    dfFileList = pd.read_csv(\n",
    "        input_fullPath, sep=\"\\t\", names=[\"fname\", \"size_(bytes)\"], header=None\n",
    "    )\n",
    "    dfFileList.index.name = \"id\"\n",
    "    end = time.time()\n",
    "    print(f\"Read tsv: {input_fullPath}\")\n",
    "    print(\"Operation time: \", (end - start), \"sec\")\n",
    "    return dfFileList\n",
    "\n",
    "\n",
    "data_root = load_app_constants()\n",
    "files_size_array = capture_dir_listing(data_root)\n"
   ]
  },
  {
   "cell_type": "code",
   "execution_count": 21,
   "metadata": {
    "pycharm": {
     "name": "#%%\n"
    }
   },
   "outputs": [
    {
     "name": "stdout",
     "output_type": "stream",
     "text": [
      "n =  98165\n",
      "μ = 3.1MiB\n",
      "median =  18.7KiB\n",
      "σ =  5261847.595657444\n",
      "AGGREGATE FOLDER SIZE: 299.9GiB\n"
     ]
    }
   ],
   "source": [
    "print('n = ', len(files_size_array.index))\n",
    "print('μ =', sizeof_fmt(files_size_array['size_(bytes)'].mean()))\n",
    "print('median = ', sizeof_fmt(files_size_array['size_(bytes)'].median()))\n",
    "print('σ = ', files_size_array['size_(bytes)'].std())\n",
    "print('AGGREGATE FOLDER SIZE:', sizeof_fmt(files_size_array['size_(bytes)'].sum()))\n",
    "#linux command: du -smh"
   ]
  },
  {
   "cell_type": "code",
   "execution_count": 22,
   "metadata": {
    "pycharm": {
     "name": "#%%\n"
    }
   },
   "outputs": [],
   "source": [
    "#REPRESENTATIVE IMAGES DURING SESSION SUM IS BASED ON HISTORICAL DAILY AVERAGE (https://activebrainatlas.ucsd.edu/awstats/awstats.pl)\n",
    "#MAR, 2022 AVG 8.82GB\n",
    "aggregate_threshold = (8.82e+9) # IN BYTES\n",
    "#aggregate_threshold = (2000) # IN BYTES\n",
    "aggregate_file_size = 0\n",
    "files_size_array['selected'] = ' ' # ADD TO EXISTING DATAFRAME\n",
    "\n",
    "for i in files_size_array.sample(frac=1).iterrows(): #ref: https://stackoverflow.com/questions/43509114/randomly-sample-rows-of-a-dataframe-until-the-desired-sum-of-a-column-is-reached\n",
    "    if (aggregate_file_size + i[1]['size_(bytes)']) <= aggregate_threshold:\n",
    "        aggregate_file_size += i[1]['size_(bytes)']\n",
    "        files_size_array.at[i[0], 'selected'] = 1\n",
    "\n",
    "# SAVE RESULTS TO FILE ('size_(bytes)' COLUMN SUM SHOULD EQUAL aggregate_threshold)\n",
    "data_root = load_app_constants()\n",
    "out_filename = 'load_test_target_transfer_list.xlsx'\n",
    "output_fullPath = os.path.join(data_root, out_filename)\n",
    "files_size_array.index.name = 'id'\n",
    "files_size_array[files_size_array['selected']==1].to_excel(output_fullPath, columns=['fname','size_(bytes)'])\n",
    "files_size_array.to_excel(out_filename)"
   ]
  },
  {
   "cell_type": "code",
   "execution_count": 62,
   "outputs": [
    {
     "name": "stdout",
     "output_type": "stream",
     "text": [
      "44 https://activebrainatlas.ucsd.edu/data/DK59/neuroglancer_data/3072_C2/325_325_20000/0-3072_0-3072_137-138.gz\n",
      "TRANSFER TIME: 0.54s\n",
      "73 https://activebrainatlas.ucsd.edu/data/DK59/neuroglancer_data/3072_C2/325_325_20000/0-3072_0-3072_163-164.gz\n",
      "TRANSFER TIME: 0.06s\n",
      "98 https://activebrainatlas.ucsd.edu/data/DK59/neuroglancer_data/3072_C2/325_325_20000/0-3072_0-3072_186-187.gz\n",
      "TRANSFER TIME: 0.06s\n",
      "150 https://activebrainatlas.ucsd.edu/data/DK59/neuroglancer_data/3072_C2/325_325_20000/0-3072_0-3072_233-234.gz\n",
      "TRANSFER TIME: 0.06s\n",
      "198 https://activebrainatlas.ucsd.edu/data/DK59/neuroglancer_data/3072_C2/325_325_20000/0-3072_0-3072_276-277.gz\n",
      "TRANSFER TIME: 0.08s\n"
     ]
    }
   ],
   "source": [
    "import pandas as pd\n",
    "import wget\n",
    "from timeit import default_timer as timer\n",
    "import glob\n",
    "\n",
    "out_filename = 'load_test_results.xlsx'\n",
    "base_url = 'https://activebrainatlas.ucsd.edu/data/DK59/neuroglancer_data/C2/325_325_20000/'\n",
    "\n",
    "def speed_test(url):\n",
    "    local_file = 'test.del'\n",
    "    start_time = timer()\n",
    "    wget.download(url, local_file)\n",
    "    end_time = timer()\n",
    "    elapsed_time = round(end_time - start_time, 2)\n",
    "\n",
    "    #CLEANUP\n",
    "    fileList = glob.glob('*.del')\n",
    "    for filePath in fileList:\n",
    "        try:\n",
    "            os.remove(filePath)\n",
    "        except:\n",
    "            print(\"Error while deleting file : \", filePath)\n",
    "\n",
    "    return elapsed_time\n",
    "\n",
    "files_size_array['transfer_time (s)'] = 0 #NEW COLUMN NAME; DEFAULT VALUE = 0\n",
    "\n",
    "selected_files = files_size_array.loc[files_size_array['selected'] == 1]\n",
    "\n",
    "for index, row in selected_files.iterrows():\n",
    "    #for testing\n",
    "    if index>200:\n",
    "        continue\n",
    "    filename = row['fname']\n",
    "    url = base_url + filename\n",
    "    elapsed_time = speed_test(url)\n",
    "    print(index, url)\n",
    "    print(f\"TRANSFER TIME: {elapsed_time}s\")\n",
    "\n",
    "    #UPDATE DATAFRAME WITH NEW TRANSFER DATE\n",
    "    files_size_array.loc[files_size_array['fname'] == filename, 'transfer_time'] = elapsed_time\n",
    "\n",
    "files_size_array.to_excel(out_filename)"
   ],
   "metadata": {
    "collapsed": false,
    "pycharm": {
     "name": "#%%\n"
    }
   }
  },
  {
   "cell_type": "code",
   "execution_count": 61,
   "outputs": [
    {
     "data": {
      "text/plain": "                                 fname  size_(bytes) selected  transfer_time\nid                                                                          \n0                                  NaN           NaN                     0.0\n1                 0-3072_0-3072_0-1.gz       19099.0                     0.0\n2             0-3072_0-3072_100-101.gz       19099.0                     0.0\n3             0-3072_0-3072_101-102.gz       19099.0                     0.0\n4               0-3072_0-3072_10-11.gz       19099.0                     0.0\n...                                ...           ...      ...            ...\n98161   9216-12288_9216-12288_96-97.gz     9099412.0                     0.0\n98162   9216-12288_9216-12288_97-98.gz     6968951.0                     0.0\n98163   9216-12288_9216-12288_98-99.gz    14700323.0                     0.0\n98164  9216-12288_9216-12288_99-100.gz    14452161.0                     0.0\n42                                 NaN           NaN      NaN            0.0\n\n[98166 rows x 4 columns]",
      "text/html": "<div>\n<style scoped>\n    .dataframe tbody tr th:only-of-type {\n        vertical-align: middle;\n    }\n\n    .dataframe tbody tr th {\n        vertical-align: top;\n    }\n\n    .dataframe thead th {\n        text-align: right;\n    }\n</style>\n<table border=\"1\" class=\"dataframe\">\n  <thead>\n    <tr style=\"text-align: right;\">\n      <th></th>\n      <th>fname</th>\n      <th>size_(bytes)</th>\n      <th>selected</th>\n      <th>transfer_time</th>\n    </tr>\n    <tr>\n      <th>id</th>\n      <th></th>\n      <th></th>\n      <th></th>\n      <th></th>\n    </tr>\n  </thead>\n  <tbody>\n    <tr>\n      <th>0</th>\n      <td>NaN</td>\n      <td>NaN</td>\n      <td></td>\n      <td>0.0</td>\n    </tr>\n    <tr>\n      <th>1</th>\n      <td>0-3072_0-3072_0-1.gz</td>\n      <td>19099.0</td>\n      <td></td>\n      <td>0.0</td>\n    </tr>\n    <tr>\n      <th>2</th>\n      <td>0-3072_0-3072_100-101.gz</td>\n      <td>19099.0</td>\n      <td></td>\n      <td>0.0</td>\n    </tr>\n    <tr>\n      <th>3</th>\n      <td>0-3072_0-3072_101-102.gz</td>\n      <td>19099.0</td>\n      <td></td>\n      <td>0.0</td>\n    </tr>\n    <tr>\n      <th>4</th>\n      <td>0-3072_0-3072_10-11.gz</td>\n      <td>19099.0</td>\n      <td></td>\n      <td>0.0</td>\n    </tr>\n    <tr>\n      <th>...</th>\n      <td>...</td>\n      <td>...</td>\n      <td>...</td>\n      <td>...</td>\n    </tr>\n    <tr>\n      <th>98161</th>\n      <td>9216-12288_9216-12288_96-97.gz</td>\n      <td>9099412.0</td>\n      <td></td>\n      <td>0.0</td>\n    </tr>\n    <tr>\n      <th>98162</th>\n      <td>9216-12288_9216-12288_97-98.gz</td>\n      <td>6968951.0</td>\n      <td></td>\n      <td>0.0</td>\n    </tr>\n    <tr>\n      <th>98163</th>\n      <td>9216-12288_9216-12288_98-99.gz</td>\n      <td>14700323.0</td>\n      <td></td>\n      <td>0.0</td>\n    </tr>\n    <tr>\n      <th>98164</th>\n      <td>9216-12288_9216-12288_99-100.gz</td>\n      <td>14452161.0</td>\n      <td></td>\n      <td>0.0</td>\n    </tr>\n    <tr>\n      <th>42</th>\n      <td>NaN</td>\n      <td>NaN</td>\n      <td>NaN</td>\n      <td>0.0</td>\n    </tr>\n  </tbody>\n</table>\n<p>98166 rows × 4 columns</p>\n</div>"
     },
     "execution_count": 61,
     "metadata": {},
     "output_type": "execute_result"
    }
   ],
   "source": [
    "#files_size_array.at[42, 'transfer_time'] = 22\n",
    "files_size_array"
   ],
   "metadata": {
    "collapsed": false,
    "pycharm": {
     "name": "#%%\n"
    }
   }
  }
 ],
 "metadata": {
  "kernelspec": {
   "display_name": "Python 3.10.4 64-bit",
   "language": "python",
   "name": "python3"
  },
  "language_info": {
   "codemirror_mode": {
    "name": "ipython",
    "version": 3
   },
   "file_extension": ".py",
   "mimetype": "text/x-python",
   "name": "python",
   "nbconvert_exporter": "python",
   "pygments_lexer": "ipython3",
   "version": "3.10.4"
  },
  "orig_nbformat": 4,
  "vscode": {
   "interpreter": {
    "hash": "26de051ba29f2982a8de78e945f0abaf191376122a1563185a90213a26c5da77"
   }
  }
 },
 "nbformat": 4,
 "nbformat_minor": 2
}